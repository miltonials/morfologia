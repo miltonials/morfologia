{
  "nbformat": 4,
  "nbformat_minor": 0,
  "metadata": {
    "colab": {
      "provenance": [],
      "toc_visible": true
    },
    "kernelspec": {
      "name": "python3",
      "display_name": "Python 3"
    },
    "language_info": {
      "name": "python"
    },
    "gpuClass": "standard"
  },
  "cells": [
    {
      "cell_type": "markdown",
      "source": [
        "\n",
        "# <table><tr><th><h3>📗 Tarea corta 1 - Morfología</th></tr></table>\n",
        "\n",
        "<a href=\"https://tecnube1-my.sharepoint.com/personal/kobando_itcr_ac_cr/_layouts/15/onedrive.aspx?ga=1&id=%2Fpersonal%2Fkobando%5Fitcr%5Fac%5Fcr%2FDocuments%2FMaterias%2FAcceso%20Alumnos%2FRecuperaci%C3%B3n%20Textual%2FTrabajos%2FTC%21%2DMorfolog%C3%ADa%2FTC1%2DMorfologia%2Epdf&parent=%2Fpersonal%2Fkobando%5Fitcr%5Fac%5Fcr%2FDocuments%2FMaterias%2FAcceso%20Alumnos%2FRecuperaci%C3%B3n%20Textual%2FTrabajos%2FTC%21%2DMorfolog%C3%ADa\">Enunciado</a>\n",
        "\n",
        "**Resumen**\n",
        "_Se escribe breve resumen del notebook_\n",
        "\n",
        "[The Time Machine by H. G. Wells](https://www.gutenberg.org/ebooks/35)\n",
        "\n",
        "Texto: [https://www.gutenberg.org/files/35/35-0.txt](https://www.gutenberg.org/files/35/35-0.txt)\n",
        "\n",
        "---\n",
        "\n",
        "# Tabla de contenidos\n",
        "\n",
        "1. [Estadística generales](#scrollTo=QG9lifjeKXRZ&line=1&uniqifier=1)\n",
        "   1. [Cantidad de palabras](#scrollTo=PhVhwoZMg6Ok&line=1&uniqifier=1)\n",
        "   2. [Cantidad de palabras únicas](#scrollTo=vAUf6xnZhDa8&line=1&uniqifier=1)\n",
        "   3. [Cantidad de lemmas diferentes](#scrollTo=tPeW8ow-heiF&line=1&uniqifier=1)\n",
        "   4. [Cantidad de párrafos](#scrollTo=UdcRgObShefU&line=1&uniqifier=1)\n",
        "   5. [Cantidad de oraciones](#scrollTo=uKJozu-th3Ie&line=1&uniqifier=1)\n",
        "2. [Redes semánticas](#scrollTo=v8Jau7M_KbUR&line=1&uniqifier=1)\n",
        "   1. [Sustantivos - Adjetivos](#scrollTo=k-wasuOoitTX&line=1&uniqifier=1)\n",
        "   2. [Sustantivos - Verbos](#scrollTo=_oo-uhZeiuZe&line=1&uniqifier=1)\n",
        "3. [Conclusiones](#scrollTo=J3jFk88QK9I4&line=3&uniqifier=1)\n",
        "4. [FAQ](#scrollTo=hC_Qp406LIzx&line=5&uniqifier=1)\n"
      ],
      "metadata": {
        "id": "QvRjsSYr_Vpm"
      }
    },
    {
      "cell_type": "markdown",
      "source": [
        "# Limpieza del texto\n",
        "---\n",
        "\n"
      ],
      "metadata": {
        "id": "dgZZ91kI_H8v"
      }
    },
    {
      "cell_type": "code",
      "source": [
        "import urllib.request\n",
        "\n",
        "txt_url = 'https://www.gutenberg.org/files/35/35-0.txt'\n",
        "filename = \"the_time_machine.txt\"\n",
        "\n",
        "with urllib.request.urlopen(txt_url) as response:\n",
        "  with open(filename, 'wb') as out_file:\n",
        "    txt = response.read()\n",
        "    out_file.write(txt)"
      ],
      "metadata": {
        "id": "JAi3w94Y8CFr"
      },
      "execution_count": null,
      "outputs": []
    },
    {
      "cell_type": "code",
      "source": [
        "with open(filename) as file:\n",
        "  txt = file.read()"
      ],
      "metadata": {
        "id": "drouZx3y8_6E"
      },
      "execution_count": null,
      "outputs": []
    },
    {
      "cell_type": "code",
      "source": [
        "print(txt[510:1000])"
      ],
      "metadata": {
        "id": "z2Yv2qTw9RPs"
      },
      "execution_count": null,
      "outputs": []
    },
    {
      "cell_type": "markdown",
      "source": [
        "__Tokenización__ 🔽\n"
      ],
      "metadata": {
        "id": "F2_VB3Ze_pIl"
      }
    },
    {
      "cell_type": "code",
      "source": [
        "\n",
        "tokens = txt.lower().replace('\\n',' ').split(' ')\n",
        "tokens_filtrados = list(filter(lambda x: x != '', tokens))\n",
        "cant_palabras = len(tokens_filtrados)\n",
        "cant_palabras_diferentes = len(set(tokens_filtrados))"
      ],
      "metadata": {
        "id": "W7PLfL9a-LVM"
      },
      "execution_count": null,
      "outputs": []
    },
    {
      "cell_type": "code",
      "source": [
        "tokens_diferentes = set(tokens_filtrados)\n",
        "print(len(tokens_diferentes))\n",
        "print(len(tokens_filtrados))"
      ],
      "metadata": {
        "colab": {
          "base_uri": "https://localhost:8080/"
        },
        "id": "iyPDTNMhAFIl",
        "outputId": "8838a3f5-6c60-4f4a-e38d-61ef340c2f02"
      },
      "execution_count": null,
      "outputs": [
        {
          "output_type": "stream",
          "name": "stdout",
          "text": [
            "7294\n",
            "35513\n"
          ]
        }
      ]
    },
    {
      "cell_type": "markdown",
      "source": [
        "## 1 Estadísticas generales del texto\n",
        "---\n",
        "\n",
        "Estadísticas generales del texto, además de reportar la cantidad, utilice gráfico de barras y nube de palabras\n",
        "\n",
        "\n",
        "1.   Cantidad de palabras\n",
        "2.   Cantidad de palabras únicas\n",
        "3.   Cantidad de lemmas diferentes\n",
        "4.   Cantidad de párrafos\n",
        "5.   Cantidad de oraciones (investigue el uso de Spacy)\n"
      ],
      "metadata": {
        "id": "QG9lifjeKXRZ"
      }
    },
    {
      "cell_type": "markdown",
      "source": [
        "### 1.1 Cantidad de palabras\n",
        "\n",
        "---\n"
      ],
      "metadata": {
        "id": "PhVhwoZMg6Ok"
      }
    },
    {
      "cell_type": "code",
      "source": [
        "print(f'Cantidad total de palabras: {cant_palabras} ')"
      ],
      "metadata": {
        "id": "3t5UCU68hAd1",
        "colab": {
          "base_uri": "https://localhost:8080/"
        },
        "outputId": "8479df85-5d76-4efa-b9c7-f6ba40e5b998"
      },
      "execution_count": 28,
      "outputs": [
        {
          "output_type": "stream",
          "name": "stdout",
          "text": [
            "Cantidad total de palabras: 35513 \n"
          ]
        }
      ]
    },
    {
      "cell_type": "markdown",
      "source": [
        "### 1.2 Cantidad de palabras únicas"
      ],
      "metadata": {
        "id": "vAUf6xnZhDa8"
      }
    },
    {
      "cell_type": "code",
      "source": [
        "print(f'Cantidad total de palabras diferentes: {cant_palabras_diferentes} ')"
      ],
      "metadata": {
        "id": "ST2zTg6whe-e",
        "colab": {
          "base_uri": "https://localhost:8080/"
        },
        "outputId": "ae4dc439-1f5c-4650-86e6-9d03f1d1688d"
      },
      "execution_count": 29,
      "outputs": [
        {
          "output_type": "stream",
          "name": "stdout",
          "text": [
            "Cantidad total de palabras diferentes: 7294 \n"
          ]
        }
      ]
    },
    {
      "cell_type": "markdown",
      "source": [
        "### 1.3 Cantidad de lemmas diferentes"
      ],
      "metadata": {
        "id": "tPeW8ow-heiF"
      }
    },
    {
      "cell_type": "code",
      "source": [
        "import spacy"
      ],
      "metadata": {
        "id": "nrQc56WtDUSC",
        "colab": {
          "base_uri": "https://localhost:8080/"
        },
        "outputId": "2780e5b7-b958-4469-a4df-5858366eacf4"
      },
      "execution_count": 31,
      "outputs": [
        {
          "output_type": "stream",
          "name": "stderr",
          "text": [
            "/usr/local/lib/python3.8/dist-packages/torch/cuda/__init__.py:497: UserWarning: Can't initialize NVML\n",
            "  warnings.warn(\"Can't initialize NVML\")\n"
          ]
        }
      ]
    },
    {
      "cell_type": "code",
      "source": [
        "!python -m spacy download es_core_news_sm"
      ],
      "metadata": {
        "colab": {
          "base_uri": "https://localhost:8080/"
        },
        "id": "tk1Tgu7JHhVy",
        "outputId": "6e86099e-84e3-4c24-f456-3194a6230d16"
      },
      "execution_count": 39,
      "outputs": [
        {
          "output_type": "stream",
          "name": "stdout",
          "text": [
            "/usr/local/lib/python3.8/dist-packages/torch/cuda/__init__.py:497: UserWarning: Can't initialize NVML\n",
            "  warnings.warn(\"Can't initialize NVML\")\n",
            "2023-03-08 02:47:53.440145: W tensorflow/compiler/xla/stream_executor/platform/default/dso_loader.cc:64] Could not load dynamic library 'libnvinfer.so.7'; dlerror: libnvinfer.so.7: cannot open shared object file: No such file or directory; LD_LIBRARY_PATH: /usr/local/nvidia/lib:/usr/local/nvidia/lib64\n",
            "2023-03-08 02:47:53.440278: W tensorflow/compiler/xla/stream_executor/platform/default/dso_loader.cc:64] Could not load dynamic library 'libnvinfer_plugin.so.7'; dlerror: libnvinfer_plugin.so.7: cannot open shared object file: No such file or directory; LD_LIBRARY_PATH: /usr/local/nvidia/lib:/usr/local/nvidia/lib64\n",
            "2023-03-08 02:47:53.440304: W tensorflow/compiler/tf2tensorrt/utils/py_utils.cc:38] TF-TRT Warning: Cannot dlopen some TensorRT libraries. If you would like to use Nvidia GPU with TensorRT, please make sure the missing libraries mentioned above are installed properly.\n",
            "2023-03-08 02:47:55.689776: E tensorflow/compiler/xla/stream_executor/cuda/cuda_driver.cc:267] failed call to cuInit: CUDA_ERROR_NO_DEVICE: no CUDA-capable device is detected\n",
            "Looking in indexes: https://pypi.org/simple, https://us-python.pkg.dev/colab-wheels/public/simple/\n",
            "Collecting es-core-news-sm==3.4.0\n",
            "  Downloading https://github.com/explosion/spacy-models/releases/download/es_core_news_sm-3.4.0/es_core_news_sm-3.4.0-py3-none-any.whl (12.9 MB)\n",
            "\u001b[2K     \u001b[90m━━━━━━━━━━━━━━━━━━━━━━━━━━━━━━━━━━━━━━━━\u001b[0m \u001b[32m12.9/12.9 MB\u001b[0m \u001b[31m33.4 MB/s\u001b[0m eta \u001b[36m0:00:00\u001b[0m\n",
            "\u001b[?25hRequirement already satisfied: spacy<3.5.0,>=3.4.0 in /usr/local/lib/python3.8/dist-packages (from es-core-news-sm==3.4.0) (3.4.4)\n",
            "Requirement already satisfied: typer<0.8.0,>=0.3.0 in /usr/local/lib/python3.8/dist-packages (from spacy<3.5.0,>=3.4.0->es-core-news-sm==3.4.0) (0.7.0)\n",
            "Requirement already satisfied: murmurhash<1.1.0,>=0.28.0 in /usr/local/lib/python3.8/dist-packages (from spacy<3.5.0,>=3.4.0->es-core-news-sm==3.4.0) (1.0.9)\n",
            "Requirement already satisfied: cymem<2.1.0,>=2.0.2 in /usr/local/lib/python3.8/dist-packages (from spacy<3.5.0,>=3.4.0->es-core-news-sm==3.4.0) (2.0.7)\n",
            "Requirement already satisfied: setuptools in /usr/local/lib/python3.8/dist-packages (from spacy<3.5.0,>=3.4.0->es-core-news-sm==3.4.0) (57.4.0)\n",
            "Requirement already satisfied: smart-open<7.0.0,>=5.2.1 in /usr/local/lib/python3.8/dist-packages (from spacy<3.5.0,>=3.4.0->es-core-news-sm==3.4.0) (6.3.0)\n",
            "Requirement already satisfied: tqdm<5.0.0,>=4.38.0 in /usr/local/lib/python3.8/dist-packages (from spacy<3.5.0,>=3.4.0->es-core-news-sm==3.4.0) (4.64.1)\n",
            "Requirement already satisfied: preshed<3.1.0,>=3.0.2 in /usr/local/lib/python3.8/dist-packages (from spacy<3.5.0,>=3.4.0->es-core-news-sm==3.4.0) (3.0.8)\n",
            "Requirement already satisfied: catalogue<2.1.0,>=2.0.6 in /usr/local/lib/python3.8/dist-packages (from spacy<3.5.0,>=3.4.0->es-core-news-sm==3.4.0) (2.0.8)\n",
            "Requirement already satisfied: wasabi<1.1.0,>=0.9.1 in /usr/local/lib/python3.8/dist-packages (from spacy<3.5.0,>=3.4.0->es-core-news-sm==3.4.0) (0.10.1)\n",
            "Requirement already satisfied: thinc<8.2.0,>=8.1.0 in /usr/local/lib/python3.8/dist-packages (from spacy<3.5.0,>=3.4.0->es-core-news-sm==3.4.0) (8.1.8)\n",
            "Requirement already satisfied: srsly<3.0.0,>=2.4.3 in /usr/local/lib/python3.8/dist-packages (from spacy<3.5.0,>=3.4.0->es-core-news-sm==3.4.0) (2.4.6)\n",
            "Requirement already satisfied: pathy>=0.3.5 in /usr/local/lib/python3.8/dist-packages (from spacy<3.5.0,>=3.4.0->es-core-news-sm==3.4.0) (0.10.1)\n",
            "Requirement already satisfied: numpy>=1.15.0 in /usr/local/lib/python3.8/dist-packages (from spacy<3.5.0,>=3.4.0->es-core-news-sm==3.4.0) (1.22.4)\n",
            "Requirement already satisfied: packaging>=20.0 in /usr/local/lib/python3.8/dist-packages (from spacy<3.5.0,>=3.4.0->es-core-news-sm==3.4.0) (23.0)\n",
            "Requirement already satisfied: pydantic!=1.8,!=1.8.1,<1.11.0,>=1.7.4 in /usr/local/lib/python3.8/dist-packages (from spacy<3.5.0,>=3.4.0->es-core-news-sm==3.4.0) (1.10.5)\n",
            "Requirement already satisfied: requests<3.0.0,>=2.13.0 in /usr/local/lib/python3.8/dist-packages (from spacy<3.5.0,>=3.4.0->es-core-news-sm==3.4.0) (2.25.1)\n",
            "Requirement already satisfied: spacy-legacy<3.1.0,>=3.0.10 in /usr/local/lib/python3.8/dist-packages (from spacy<3.5.0,>=3.4.0->es-core-news-sm==3.4.0) (3.0.12)\n",
            "Requirement already satisfied: jinja2 in /usr/local/lib/python3.8/dist-packages (from spacy<3.5.0,>=3.4.0->es-core-news-sm==3.4.0) (3.1.2)\n",
            "Requirement already satisfied: langcodes<4.0.0,>=3.2.0 in /usr/local/lib/python3.8/dist-packages (from spacy<3.5.0,>=3.4.0->es-core-news-sm==3.4.0) (3.3.0)\n",
            "Requirement already satisfied: spacy-loggers<2.0.0,>=1.0.0 in /usr/local/lib/python3.8/dist-packages (from spacy<3.5.0,>=3.4.0->es-core-news-sm==3.4.0) (1.0.4)\n",
            "Requirement already satisfied: typing-extensions>=4.2.0 in /usr/local/lib/python3.8/dist-packages (from pydantic!=1.8,!=1.8.1,<1.11.0,>=1.7.4->spacy<3.5.0,>=3.4.0->es-core-news-sm==3.4.0) (4.5.0)\n",
            "Requirement already satisfied: certifi>=2017.4.17 in /usr/local/lib/python3.8/dist-packages (from requests<3.0.0,>=2.13.0->spacy<3.5.0,>=3.4.0->es-core-news-sm==3.4.0) (2022.12.7)\n",
            "Requirement already satisfied: chardet<5,>=3.0.2 in /usr/local/lib/python3.8/dist-packages (from requests<3.0.0,>=2.13.0->spacy<3.5.0,>=3.4.0->es-core-news-sm==3.4.0) (4.0.0)\n",
            "Requirement already satisfied: urllib3<1.27,>=1.21.1 in /usr/local/lib/python3.8/dist-packages (from requests<3.0.0,>=2.13.0->spacy<3.5.0,>=3.4.0->es-core-news-sm==3.4.0) (1.26.14)\n",
            "Requirement already satisfied: idna<3,>=2.5 in /usr/local/lib/python3.8/dist-packages (from requests<3.0.0,>=2.13.0->spacy<3.5.0,>=3.4.0->es-core-news-sm==3.4.0) (2.10)\n",
            "Requirement already satisfied: confection<1.0.0,>=0.0.1 in /usr/local/lib/python3.8/dist-packages (from thinc<8.2.0,>=8.1.0->spacy<3.5.0,>=3.4.0->es-core-news-sm==3.4.0) (0.0.4)\n",
            "Requirement already satisfied: blis<0.8.0,>=0.7.8 in /usr/local/lib/python3.8/dist-packages (from thinc<8.2.0,>=8.1.0->spacy<3.5.0,>=3.4.0->es-core-news-sm==3.4.0) (0.7.9)\n",
            "Requirement already satisfied: click<9.0.0,>=7.1.1 in /usr/local/lib/python3.8/dist-packages (from typer<0.8.0,>=0.3.0->spacy<3.5.0,>=3.4.0->es-core-news-sm==3.4.0) (8.1.3)\n",
            "Requirement already satisfied: MarkupSafe>=2.0 in /usr/local/lib/python3.8/dist-packages (from jinja2->spacy<3.5.0,>=3.4.0->es-core-news-sm==3.4.0) (2.1.2)\n",
            "Installing collected packages: es-core-news-sm\n",
            "Successfully installed es-core-news-sm-3.4.0\n",
            "\u001b[38;5;2m✔ Download and installation successful\u001b[0m\n",
            "You can now load the package via spacy.load('es_core_news_sm')\n"
          ]
        }
      ]
    },
    {
      "cell_type": "code",
      "source": [
        "nlp = spacy.load('en_core_web_sm')\n",
        "\n",
        "# Create a Doc object\n",
        "\"\"\"\n",
        "doc = nlp(txt)\n",
        "lista = []\n",
        "for e in tokens_filtrados[500:510]:  \n",
        "  lista += nlp(e)\n",
        "#doc = list(filter(lambda x: nlp(x), tokens_filtrados))\n",
        "\"\"\"\n",
        "\n",
        "# Print the lemma for each token\n",
        "lista = list(filter(lambda x: nlp(x), tokens_filtrados))\n",
        "lemmas = list(filter(lambda x: x.lemma_, lista))\n",
        "\n",
        "\"\"\"\n",
        "for token in lista:\n",
        "    lemmas += [token.lemma_]\n",
        "\"\"\""
      ],
      "metadata": {
        "id": "HPyneSc9hroN"
      },
      "execution_count": null,
      "outputs": []
    },
    {
      "cell_type": "code",
      "source": [
        "print(lista)\n",
        "#print(tokens_filtrados[500:510])"
      ],
      "metadata": {
        "colab": {
          "base_uri": "https://localhost:8080/"
        },
        "id": "kUS8hGctMGlC",
        "outputId": "75f294b5-8572-42c4-8e60-85dbd288b728"
      },
      "execution_count": 59,
      "outputs": [
        {
          "output_type": "stream",
          "name": "stdout",
          "text": [
            "['\\ufeffthe', 'project', 'gutenberg', 'ebook', 'of', 'the', 'time', 'machine,', 'by', 'h.']\n"
          ]
        }
      ]
    },
    {
      "cell_type": "markdown",
      "source": [
        "### 1.4 Cantidad de párrafos"
      ],
      "metadata": {
        "id": "UdcRgObShefU"
      }
    },
    {
      "cell_type": "code",
      "source": [
        "print('cantidad de párrafos')"
      ],
      "metadata": {
        "id": "7kurAbOKhzRV"
      },
      "execution_count": null,
      "outputs": []
    },
    {
      "cell_type": "markdown",
      "source": [
        "### 1.5 Cantidad de oraciones"
      ],
      "metadata": {
        "id": "uKJozu-th3Ie"
      }
    },
    {
      "cell_type": "code",
      "source": [
        "print('cantidad de oraciones')"
      ],
      "metadata": {
        "id": "Jankt-Ieh3bt"
      },
      "execution_count": null,
      "outputs": []
    },
    {
      "cell_type": "markdown",
      "source": [
        "## Redes semánticas\n",
        "---\n",
        "\n",
        "Redes semánticas, debidamente filtradas y procesadas a criterio del grupo:\n",
        "\n",
        "1.   Red semántica de Sustantivos-Adjetivos\n",
        "2.   Red semántica de Sustantivos-Verbos\n",
        "\n"
      ],
      "metadata": {
        "id": "v8Jau7M_KbUR"
      }
    },
    {
      "cell_type": "markdown",
      "source": [
        "### Sustantivos - Adjetivos"
      ],
      "metadata": {
        "id": "k-wasuOoitTX"
      }
    },
    {
      "cell_type": "code",
      "source": [
        "print('red semántica 1')"
      ],
      "metadata": {
        "id": "VkU-811Fitxt"
      },
      "execution_count": null,
      "outputs": []
    },
    {
      "cell_type": "markdown",
      "source": [
        "### Sustantivos - Verbos"
      ],
      "metadata": {
        "id": "_oo-uhZeiuZe"
      }
    },
    {
      "cell_type": "code",
      "source": [
        "print('red semantica 2')"
      ],
      "metadata": {
        "id": "hGa8oNzriurW"
      },
      "execution_count": null,
      "outputs": []
    },
    {
      "cell_type": "markdown",
      "source": [
        "## Conclusiones\n",
        "---\n",
        "\n",
        "¿Qué conclusiones pueden obtener a partir de la información extraída?"
      ],
      "metadata": {
        "id": "J3jFk88QK9I4"
      }
    },
    {
      "cell_type": "markdown",
      "source": [
        "## FAQ\n",
        "---\n",
        "\n",
        "* ¿Existen conceptos, personas, personajes que sobresalen?\n",
        "* ¿Qué características se pueden deducir a partir de la información obtenida?"
      ],
      "metadata": {
        "id": "hC_Qp406LIzx"
      }
    }
  ]
}